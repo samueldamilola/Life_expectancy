{
 "cells": [
  {
   "cell_type": "markdown",
   "metadata": {},
   "source": [
    "## Model Building"
   ]
  },
  {
   "cell_type": "code",
   "execution_count": null,
   "metadata": {},
   "outputs": [],
   "source": [
    "Task<br>\n",
    "ordinary least regression (OLS)<br>\n",
    "Multiple linear regression<br>\n",
    "support vector regressor<br>\n",
    "Random forest\n",
    "lasso regression\n",
    "\n",
    "Performance\n",
    "R-squared and mean absolute error\n",
    "tune model using Gridsearchcv\n",
    "test emsemble\n",
    "\n",
    "\n",
    " <hr style=\"width:100%; height:2px; background: #000\">"
   ]
  }
 ],
 "metadata": {
  "kernelspec": {
   "display_name": "Python 3",
   "language": "python",
   "name": "python3"
  },
  "language_info": {
   "codemirror_mode": {
    "name": "ipython",
    "version": 3
   },
   "file_extension": ".py",
   "mimetype": "text/x-python",
   "name": "python",
   "nbconvert_exporter": "python",
   "pygments_lexer": "ipython3",
   "version": "3.7.6"
  }
 },
 "nbformat": 4,
 "nbformat_minor": 4
}
