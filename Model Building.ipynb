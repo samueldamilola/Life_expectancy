{
 "cells": [
  {
   "cell_type": "markdown",
   "metadata": {},
   "source": [
    "## Model Building"
   ]
  },
  {
   "cell_type": "markdown",
   "metadata": {},
   "source": [
    "### Task\n",
    "\n",
    "**<a href=\"#OLS\" style=\"text-decoration:none;\">a. Ordinary least regression</a>**<br>\n",
    "**<a href=\"#mul\" style=\"text-decoration:none;\">b. Multiple linear regression</a>**<br>\n",
    "**<a href=\"#svm\" style=\"text-decoration:none;\">c. Support vector regressor</a>**<br>\n",
    "**<a href=\"#lr\" style=\"text-decoration:none;\">d. Lasso regression</a>**<br>\n",
    "**<a href=\"#rf\" style=\"text-decoration:none;\">e. Random forest regressor</a>**<br>\n",
    "**<a href=\"#gs\" style=\"text-decoration:none;\">f. GridSearchCV turning</a>**<br>\n",
    "**<a href=\"#es\" style=\"text-decoration:none;\">g. Ensembling</a>**<br>\n",
    "\n",
    "####  Performance\n",
    "R-squared and mean absolute error<br>\n"
   ]
  },
  {
   "cell_type": "code",
   "execution_count": 1,
   "metadata": {},
   "outputs": [],
   "source": [
    "#import dependencies\n",
    "import pandas as pd\n",
    "import numpy as np\n",
    "import matplotlib.pyplot as plt\n",
    "import statsmodels.api as sm  #for regression statistics\n",
    "from sklearn.linear_model import LinearRegression #for building regression model\n",
    "linear_model = LinearRegression()\n",
    "from sklearn.metrics import mean_squared_error, r2_score #for linear regression evaluations\n",
    "from sklearn.model_selection import train_test_split #for spliting our datasets\n",
    "from sklearn.model_selection import cross_val_score\n",
    "from sklearn.ensemble import RandomForestRegressor\n",
    "from sklearn.svm import SVR\n",
    "regressor = SVR (kernel = \"rbf\")"
   ]
  },
  {
   "cell_type": "code",
   "execution_count": 2,
   "metadata": {},
   "outputs": [],
   "source": [
    "#load our dataset\n",
    "df = pd.read_csv(r\"C:\\Users\\lenovo\\Desktop\\DSN\\December data science project\\Regression (Life Expectancy prediction)\\eda_df.csv\")"
   ]
  },
  {
   "cell_type": "code",
   "execution_count": 3,
   "metadata": {},
   "outputs": [
    {
     "data": {
      "text/plain": [
       "Index(['Country', 'Status', 'Lifeexpectancy', 'AdultMortality', 'infantdeaths',\n",
       "       'Alcohol', 'percentageexpenditure', 'HepatitisB', 'Measles', 'BMI',\n",
       "       'under-fivedeaths', 'Polio', 'Totalexpenditure', 'Diphtheria',\n",
       "       'HIV/AIDS', 'GDP', 'Population', 'thinness1-19years',\n",
       "       'thinness5-9years', 'Incomecompositionofresources', 'Schooling',\n",
       "       'Region', 'IncomeGroup'],\n",
       "      dtype='object')"
      ]
     },
     "execution_count": 3,
     "metadata": {},
     "output_type": "execute_result"
    }
   ],
   "source": [
    "df.columns"
   ]
  },
  {
   "cell_type": "code",
   "execution_count": 4,
   "metadata": {},
   "outputs": [],
   "source": [
    "#Remove columns that are not related to the target variabl following our EDA\n",
    "df.drop([\"Country\", \"infantdeaths\", \"Measles\", \"Population\"], axis = 1, inplace = True)"
   ]
  },
  {
   "cell_type": "code",
   "execution_count": 5,
   "metadata": {},
   "outputs": [
    {
     "data": {
      "text/html": [
       "<div>\n",
       "<style scoped>\n",
       "    .dataframe tbody tr th:only-of-type {\n",
       "        vertical-align: middle;\n",
       "    }\n",
       "\n",
       "    .dataframe tbody tr th {\n",
       "        vertical-align: top;\n",
       "    }\n",
       "\n",
       "    .dataframe thead th {\n",
       "        text-align: right;\n",
       "    }\n",
       "</style>\n",
       "<table border=\"1\" class=\"dataframe\">\n",
       "  <thead>\n",
       "    <tr style=\"text-align: right;\">\n",
       "      <th></th>\n",
       "      <th>Status</th>\n",
       "      <th>Region</th>\n",
       "      <th>IncomeGroup</th>\n",
       "    </tr>\n",
       "  </thead>\n",
       "  <tbody>\n",
       "    <tr>\n",
       "      <th>0</th>\n",
       "      <td>Developing</td>\n",
       "      <td>South Asia</td>\n",
       "      <td>Low income</td>\n",
       "    </tr>\n",
       "    <tr>\n",
       "      <th>1</th>\n",
       "      <td>Developing</td>\n",
       "      <td>Europe &amp; Central Asia</td>\n",
       "      <td>Upper middle income</td>\n",
       "    </tr>\n",
       "    <tr>\n",
       "      <th>2</th>\n",
       "      <td>Developing</td>\n",
       "      <td>Middle East &amp; North Africa</td>\n",
       "      <td>Lower middle income</td>\n",
       "    </tr>\n",
       "    <tr>\n",
       "      <th>3</th>\n",
       "      <td>Developing</td>\n",
       "      <td>Sub-Saharan Africa</td>\n",
       "      <td>Lower middle income</td>\n",
       "    </tr>\n",
       "    <tr>\n",
       "      <th>4</th>\n",
       "      <td>Developing</td>\n",
       "      <td>Latin America &amp; Caribbean</td>\n",
       "      <td>High income</td>\n",
       "    </tr>\n",
       "    <tr>\n",
       "      <th>...</th>\n",
       "      <td>...</td>\n",
       "      <td>...</td>\n",
       "      <td>...</td>\n",
       "    </tr>\n",
       "    <tr>\n",
       "      <th>160</th>\n",
       "      <td>Developing</td>\n",
       "      <td>East Asia &amp; Pacific</td>\n",
       "      <td>Lower middle income</td>\n",
       "    </tr>\n",
       "    <tr>\n",
       "      <th>161</th>\n",
       "      <td>Developing</td>\n",
       "      <td>Latin America &amp; Caribbean</td>\n",
       "      <td>Upper middle income</td>\n",
       "    </tr>\n",
       "    <tr>\n",
       "      <th>162</th>\n",
       "      <td>Developing</td>\n",
       "      <td>Middle East &amp; North Africa</td>\n",
       "      <td>Low income</td>\n",
       "    </tr>\n",
       "    <tr>\n",
       "      <th>163</th>\n",
       "      <td>Developing</td>\n",
       "      <td>Sub-Saharan Africa</td>\n",
       "      <td>Lower middle income</td>\n",
       "    </tr>\n",
       "    <tr>\n",
       "      <th>164</th>\n",
       "      <td>Developing</td>\n",
       "      <td>Sub-Saharan Africa</td>\n",
       "      <td>Lower middle income</td>\n",
       "    </tr>\n",
       "  </tbody>\n",
       "</table>\n",
       "<p>165 rows × 3 columns</p>\n",
       "</div>"
      ],
      "text/plain": [
       "         Status                      Region          IncomeGroup\n",
       "0    Developing                  South Asia           Low income\n",
       "1    Developing       Europe & Central Asia  Upper middle income\n",
       "2    Developing  Middle East & North Africa  Lower middle income\n",
       "3    Developing          Sub-Saharan Africa  Lower middle income\n",
       "4    Developing   Latin America & Caribbean          High income\n",
       "..          ...                         ...                  ...\n",
       "160  Developing         East Asia & Pacific  Lower middle income\n",
       "161  Developing   Latin America & Caribbean  Upper middle income\n",
       "162  Developing  Middle East & North Africa           Low income\n",
       "163  Developing          Sub-Saharan Africa  Lower middle income\n",
       "164  Developing          Sub-Saharan Africa  Lower middle income\n",
       "\n",
       "[165 rows x 3 columns]"
      ]
     },
     "execution_count": 5,
     "metadata": {},
     "output_type": "execute_result"
    }
   ],
   "source": [
    "#Encoding categorical variable\n",
    "import numpy as np\n",
    "cat_features = df.select_dtypes(exclude =np.number)\n",
    "cat_features"
   ]
  },
  {
   "cell_type": "code",
   "execution_count": 6,
   "metadata": {},
   "outputs": [
    {
     "name": "stdout",
     "output_type": "stream",
     "text": [
      "Status has 2 unique categories\n",
      "Region has 7 unique categories\n",
      "IncomeGroup has 4 unique categories\n"
     ]
    }
   ],
   "source": [
    "#Create dummies variable for our categorical variables (Status, Region and Income Group)\n",
    "for col in cat_features:\n",
    "    print(\"{} has {} unique categories\". format(col, df[col].nunique()))"
   ]
  },
  {
   "cell_type": "code",
   "execution_count": 7,
   "metadata": {},
   "outputs": [],
   "source": [
    "df = pd.get_dummies(columns = [\"Status\", \"Region\", \"IncomeGroup\"], data = df)"
   ]
  },
  {
   "cell_type": "code",
   "execution_count": 8,
   "metadata": {},
   "outputs": [
    {
     "name": "stdout",
     "output_type": "stream",
     "text": [
      "<class 'pandas.core.frame.DataFrame'>\n",
      "RangeIndex: 165 entries, 0 to 164\n",
      "Data columns (total 29 columns):\n",
      " #   Column                             Non-Null Count  Dtype  \n",
      "---  ------                             --------------  -----  \n",
      " 0   Lifeexpectancy                     165 non-null    float64\n",
      " 1   AdultMortality                     165 non-null    float64\n",
      " 2   Alcohol                            165 non-null    float64\n",
      " 3   percentageexpenditure              165 non-null    float64\n",
      " 4   HepatitisB                         165 non-null    float64\n",
      " 5   BMI                                165 non-null    float64\n",
      " 6   under-fivedeaths                   165 non-null    float64\n",
      " 7   Polio                              165 non-null    float64\n",
      " 8   Totalexpenditure                   165 non-null    float64\n",
      " 9   Diphtheria                         165 non-null    float64\n",
      " 10  HIV/AIDS                           165 non-null    float64\n",
      " 11  GDP                                165 non-null    float64\n",
      " 12  thinness1-19years                  165 non-null    float64\n",
      " 13  thinness5-9years                   165 non-null    float64\n",
      " 14  Incomecompositionofresources       165 non-null    float64\n",
      " 15  Schooling                          165 non-null    float64\n",
      " 16  Status_Developed                   165 non-null    uint8  \n",
      " 17  Status_Developing                  165 non-null    uint8  \n",
      " 18  Region_East Asia & Pacific         165 non-null    uint8  \n",
      " 19  Region_Europe & Central Asia       165 non-null    uint8  \n",
      " 20  Region_Latin America & Caribbean   165 non-null    uint8  \n",
      " 21  Region_Middle East & North Africa  165 non-null    uint8  \n",
      " 22  Region_North America               165 non-null    uint8  \n",
      " 23  Region_South Asia                  165 non-null    uint8  \n",
      " 24  Region_Sub-Saharan Africa          165 non-null    uint8  \n",
      " 25  IncomeGroup_High income            165 non-null    uint8  \n",
      " 26  IncomeGroup_Low income             165 non-null    uint8  \n",
      " 27  IncomeGroup_Lower middle income    165 non-null    uint8  \n",
      " 28  IncomeGroup_Upper middle income    165 non-null    uint8  \n",
      "dtypes: float64(16), uint8(13)\n",
      "memory usage: 22.8 KB\n"
     ]
    }
   ],
   "source": [
    "df.info()"
   ]
  },
  {
   "cell_type": "code",
   "execution_count": 9,
   "metadata": {},
   "outputs": [],
   "source": [
    "#Seperating target variable from other features\n",
    "X = df.drop([\"Lifeexpectancy\"], axis = 1)\n",
    "y = df[\"Lifeexpectancy\"]"
   ]
  },
  {
   "cell_type": "code",
   "execution_count": 10,
   "metadata": {},
   "outputs": [],
   "source": [
    "#Spliting of the datasets\n",
    "from sklearn import model_selection\n",
    "validation_size = 0.20\n",
    "seed = 42\n",
    "X_train, X_test, y_train, y_test = model_selection.train_test_split(X, y, test_size = validation_size, random_state = seed)"
   ]
  },
  {
   "cell_type": "markdown",
   "metadata": {},
   "source": [
    "<p id='OLS'></p>\n",
    "<br><br>\n",
    "\n",
    "### Ordinary least regression"
   ]
  },
  {
   "cell_type": "code",
   "execution_count": 11,
   "metadata": {},
   "outputs": [
    {
     "data": {
      "text/html": [
       "<table class=\"simpletable\">\n",
       "<caption>OLS Regression Results</caption>\n",
       "<tr>\n",
       "  <th>Dep. Variable:</th>     <td>Lifeexpectancy</td>  <th>  R-squared:         </th> <td>   0.942</td>\n",
       "</tr>\n",
       "<tr>\n",
       "  <th>Model:</th>                   <td>OLS</td>       <th>  Adj. R-squared:    </th> <td>   0.932</td>\n",
       "</tr>\n",
       "<tr>\n",
       "  <th>Method:</th>             <td>Least Squares</td>  <th>  F-statistic:       </th> <td>   90.95</td>\n",
       "</tr>\n",
       "<tr>\n",
       "  <th>Date:</th>             <td>Thu, 14 Jan 2021</td> <th>  Prob (F-statistic):</th> <td>1.09e-73</td>\n",
       "</tr>\n",
       "<tr>\n",
       "  <th>Time:</th>                 <td>19:05:30</td>     <th>  Log-Likelihood:    </th> <td> -364.07</td>\n",
       "</tr>\n",
       "<tr>\n",
       "  <th>No. Observations:</th>      <td>   165</td>      <th>  AIC:               </th> <td>   780.1</td>\n",
       "</tr>\n",
       "<tr>\n",
       "  <th>Df Residuals:</th>          <td>   139</td>      <th>  BIC:               </th> <td>   860.9</td>\n",
       "</tr>\n",
       "<tr>\n",
       "  <th>Df Model:</th>              <td>    25</td>      <th>                     </th>     <td> </td>   \n",
       "</tr>\n",
       "<tr>\n",
       "  <th>Covariance Type:</th>      <td>nonrobust</td>    <th>                     </th>     <td> </td>   \n",
       "</tr>\n",
       "</table>\n",
       "<table class=\"simpletable\">\n",
       "<tr>\n",
       "                  <td></td>                     <th>coef</th>     <th>std err</th>      <th>t</th>      <th>P>|t|</th>  <th>[0.025</th>    <th>0.975]</th>  \n",
       "</tr>\n",
       "<tr>\n",
       "  <th>const</th>                             <td>   33.1568</td> <td>    1.362</td> <td>   24.352</td> <td> 0.000</td> <td>   30.465</td> <td>   35.849</td>\n",
       "</tr>\n",
       "<tr>\n",
       "  <th>AdultMortality</th>                    <td>   -0.0419</td> <td>    0.005</td> <td>   -9.106</td> <td> 0.000</td> <td>   -0.051</td> <td>   -0.033</td>\n",
       "</tr>\n",
       "<tr>\n",
       "  <th>Alcohol</th>                           <td>    0.0151</td> <td>    0.091</td> <td>    0.165</td> <td> 0.869</td> <td>   -0.166</td> <td>    0.196</td>\n",
       "</tr>\n",
       "<tr>\n",
       "  <th>percentageexpenditure</th>             <td>    0.0007</td> <td>    0.000</td> <td>    1.701</td> <td> 0.091</td> <td>   -0.000</td> <td>    0.001</td>\n",
       "</tr>\n",
       "<tr>\n",
       "  <th>HepatitisB</th>                        <td>   -0.0421</td> <td>    0.022</td> <td>   -1.932</td> <td> 0.055</td> <td>   -0.085</td> <td>    0.001</td>\n",
       "</tr>\n",
       "<tr>\n",
       "  <th>BMI</th>                               <td>    0.0182</td> <td>    0.030</td> <td>    0.614</td> <td> 0.540</td> <td>   -0.040</td> <td>    0.077</td>\n",
       "</tr>\n",
       "<tr>\n",
       "  <th>under-fivedeaths</th>                  <td>   -0.0019</td> <td>    0.002</td> <td>   -1.242</td> <td> 0.216</td> <td>   -0.005</td> <td>    0.001</td>\n",
       "</tr>\n",
       "<tr>\n",
       "  <th>Polio</th>                             <td>    0.0305</td> <td>    0.043</td> <td>    0.712</td> <td> 0.478</td> <td>   -0.054</td> <td>    0.115</td>\n",
       "</tr>\n",
       "<tr>\n",
       "  <th>Totalexpenditure</th>                  <td>    0.1102</td> <td>    0.141</td> <td>    0.780</td> <td> 0.437</td> <td>   -0.169</td> <td>    0.390</td>\n",
       "</tr>\n",
       "<tr>\n",
       "  <th>Diphtheria</th>                        <td>    0.0958</td> <td>    0.044</td> <td>    2.157</td> <td> 0.033</td> <td>    0.008</td> <td>    0.184</td>\n",
       "</tr>\n",
       "<tr>\n",
       "  <th>HIV/AIDS</th>                          <td>   -0.1099</td> <td>    0.085</td> <td>   -1.285</td> <td> 0.201</td> <td>   -0.279</td> <td>    0.059</td>\n",
       "</tr>\n",
       "<tr>\n",
       "  <th>GDP</th>                               <td>-4.799e-05</td> <td> 6.33e-05</td> <td>   -0.758</td> <td> 0.450</td> <td>   -0.000</td> <td> 7.71e-05</td>\n",
       "</tr>\n",
       "<tr>\n",
       "  <th>thinness1-19years</th>                 <td>   -0.1885</td> <td>    0.285</td> <td>   -0.662</td> <td> 0.509</td> <td>   -0.751</td> <td>    0.374</td>\n",
       "</tr>\n",
       "<tr>\n",
       "  <th>thinness5-9years</th>                  <td>    0.0513</td> <td>    0.275</td> <td>    0.186</td> <td> 0.853</td> <td>   -0.493</td> <td>    0.596</td>\n",
       "</tr>\n",
       "<tr>\n",
       "  <th>Incomecompositionofresources</th>      <td>    4.6865</td> <td>    2.463</td> <td>    1.903</td> <td> 0.059</td> <td>   -0.183</td> <td>    9.556</td>\n",
       "</tr>\n",
       "<tr>\n",
       "  <th>Schooling</th>                         <td>    0.2479</td> <td>    0.145</td> <td>    1.715</td> <td> 0.089</td> <td>   -0.038</td> <td>    0.534</td>\n",
       "</tr>\n",
       "<tr>\n",
       "  <th>Status_Developed</th>                  <td>   16.6891</td> <td>    0.865</td> <td>   19.301</td> <td> 0.000</td> <td>   14.979</td> <td>   18.399</td>\n",
       "</tr>\n",
       "<tr>\n",
       "  <th>Status_Developing</th>                 <td>   16.4677</td> <td>    0.755</td> <td>   21.809</td> <td> 0.000</td> <td>   14.975</td> <td>   17.961</td>\n",
       "</tr>\n",
       "<tr>\n",
       "  <th>Region_East Asia & Pacific</th>        <td>    5.3213</td> <td>    0.642</td> <td>    8.284</td> <td> 0.000</td> <td>    4.051</td> <td>    6.591</td>\n",
       "</tr>\n",
       "<tr>\n",
       "  <th>Region_Europe & Central Asia</th>      <td>    4.0078</td> <td>    0.669</td> <td>    5.986</td> <td> 0.000</td> <td>    2.684</td> <td>    5.331</td>\n",
       "</tr>\n",
       "<tr>\n",
       "  <th>Region_Latin America & Caribbean</th>  <td>    5.3681</td> <td>    0.637</td> <td>    8.424</td> <td> 0.000</td> <td>    4.108</td> <td>    6.628</td>\n",
       "</tr>\n",
       "<tr>\n",
       "  <th>Region_Middle East & North Africa</th> <td>    4.9287</td> <td>    0.826</td> <td>    5.969</td> <td> 0.000</td> <td>    3.296</td> <td>    6.561</td>\n",
       "</tr>\n",
       "<tr>\n",
       "  <th>Region_North America</th>              <td>    3.7311</td> <td>    1.809</td> <td>    2.063</td> <td> 0.041</td> <td>    0.155</td> <td>    7.307</td>\n",
       "</tr>\n",
       "<tr>\n",
       "  <th>Region_South Asia</th>                 <td>    7.0827</td> <td>    1.416</td> <td>    5.001</td> <td> 0.000</td> <td>    4.282</td> <td>    9.883</td>\n",
       "</tr>\n",
       "<tr>\n",
       "  <th>Region_Sub-Saharan Africa</th>         <td>    2.7170</td> <td>    0.741</td> <td>    3.669</td> <td> 0.000</td> <td>    1.253</td> <td>    4.181</td>\n",
       "</tr>\n",
       "<tr>\n",
       "  <th>IncomeGroup_High income</th>           <td>    9.7846</td> <td>    0.821</td> <td>   11.920</td> <td> 0.000</td> <td>    8.162</td> <td>   11.408</td>\n",
       "</tr>\n",
       "<tr>\n",
       "  <th>IncomeGroup_Low income</th>            <td>    7.0374</td> <td>    0.620</td> <td>   11.345</td> <td> 0.000</td> <td>    5.811</td> <td>    8.264</td>\n",
       "</tr>\n",
       "<tr>\n",
       "  <th>IncomeGroup_Lower middle income</th>   <td>    7.4888</td> <td>    0.505</td> <td>   14.843</td> <td> 0.000</td> <td>    6.491</td> <td>    8.486</td>\n",
       "</tr>\n",
       "<tr>\n",
       "  <th>IncomeGroup_Upper middle income</th>   <td>    8.8459</td> <td>    0.582</td> <td>   15.201</td> <td> 0.000</td> <td>    7.695</td> <td>    9.996</td>\n",
       "</tr>\n",
       "</table>\n",
       "<table class=\"simpletable\">\n",
       "<tr>\n",
       "  <th>Omnibus:</th>       <td> 6.859</td> <th>  Durbin-Watson:     </th> <td>   2.095</td>\n",
       "</tr>\n",
       "<tr>\n",
       "  <th>Prob(Omnibus):</th> <td> 0.032</td> <th>  Jarque-Bera (JB):  </th> <td>  11.832</td>\n",
       "</tr>\n",
       "<tr>\n",
       "  <th>Skew:</th>          <td>-0.022</td> <th>  Prob(JB):          </th> <td> 0.00270</td>\n",
       "</tr>\n",
       "<tr>\n",
       "  <th>Kurtosis:</th>      <td> 4.311</td> <th>  Cond. No.          </th> <td>1.23e+16</td>\n",
       "</tr>\n",
       "</table><br/><br/>Warnings:<br/>[1] Standard Errors assume that the covariance matrix of the errors is correctly specified.<br/>[2] The smallest eigenvalue is 1.82e-22. This might indicate that there are<br/>strong multicollinearity problems or that the design matrix is singular."
      ],
      "text/plain": [
       "<class 'statsmodels.iolib.summary.Summary'>\n",
       "\"\"\"\n",
       "                            OLS Regression Results                            \n",
       "==============================================================================\n",
       "Dep. Variable:         Lifeexpectancy   R-squared:                       0.942\n",
       "Model:                            OLS   Adj. R-squared:                  0.932\n",
       "Method:                 Least Squares   F-statistic:                     90.95\n",
       "Date:                Thu, 14 Jan 2021   Prob (F-statistic):           1.09e-73\n",
       "Time:                        19:05:30   Log-Likelihood:                -364.07\n",
       "No. Observations:                 165   AIC:                             780.1\n",
       "Df Residuals:                     139   BIC:                             860.9\n",
       "Df Model:                          25                                         \n",
       "Covariance Type:            nonrobust                                         \n",
       "=====================================================================================================\n",
       "                                        coef    std err          t      P>|t|      [0.025      0.975]\n",
       "-----------------------------------------------------------------------------------------------------\n",
       "const                                33.1568      1.362     24.352      0.000      30.465      35.849\n",
       "AdultMortality                       -0.0419      0.005     -9.106      0.000      -0.051      -0.033\n",
       "Alcohol                               0.0151      0.091      0.165      0.869      -0.166       0.196\n",
       "percentageexpenditure                 0.0007      0.000      1.701      0.091      -0.000       0.001\n",
       "HepatitisB                           -0.0421      0.022     -1.932      0.055      -0.085       0.001\n",
       "BMI                                   0.0182      0.030      0.614      0.540      -0.040       0.077\n",
       "under-fivedeaths                     -0.0019      0.002     -1.242      0.216      -0.005       0.001\n",
       "Polio                                 0.0305      0.043      0.712      0.478      -0.054       0.115\n",
       "Totalexpenditure                      0.1102      0.141      0.780      0.437      -0.169       0.390\n",
       "Diphtheria                            0.0958      0.044      2.157      0.033       0.008       0.184\n",
       "HIV/AIDS                             -0.1099      0.085     -1.285      0.201      -0.279       0.059\n",
       "GDP                               -4.799e-05   6.33e-05     -0.758      0.450      -0.000    7.71e-05\n",
       "thinness1-19years                    -0.1885      0.285     -0.662      0.509      -0.751       0.374\n",
       "thinness5-9years                      0.0513      0.275      0.186      0.853      -0.493       0.596\n",
       "Incomecompositionofresources          4.6865      2.463      1.903      0.059      -0.183       9.556\n",
       "Schooling                             0.2479      0.145      1.715      0.089      -0.038       0.534\n",
       "Status_Developed                     16.6891      0.865     19.301      0.000      14.979      18.399\n",
       "Status_Developing                    16.4677      0.755     21.809      0.000      14.975      17.961\n",
       "Region_East Asia & Pacific            5.3213      0.642      8.284      0.000       4.051       6.591\n",
       "Region_Europe & Central Asia          4.0078      0.669      5.986      0.000       2.684       5.331\n",
       "Region_Latin America & Caribbean      5.3681      0.637      8.424      0.000       4.108       6.628\n",
       "Region_Middle East & North Africa     4.9287      0.826      5.969      0.000       3.296       6.561\n",
       "Region_North America                  3.7311      1.809      2.063      0.041       0.155       7.307\n",
       "Region_South Asia                     7.0827      1.416      5.001      0.000       4.282       9.883\n",
       "Region_Sub-Saharan Africa             2.7170      0.741      3.669      0.000       1.253       4.181\n",
       "IncomeGroup_High income               9.7846      0.821     11.920      0.000       8.162      11.408\n",
       "IncomeGroup_Low income                7.0374      0.620     11.345      0.000       5.811       8.264\n",
       "IncomeGroup_Lower middle income       7.4888      0.505     14.843      0.000       6.491       8.486\n",
       "IncomeGroup_Upper middle income       8.8459      0.582     15.201      0.000       7.695       9.996\n",
       "==============================================================================\n",
       "Omnibus:                        6.859   Durbin-Watson:                   2.095\n",
       "Prob(Omnibus):                  0.032   Jarque-Bera (JB):               11.832\n",
       "Skew:                          -0.022   Prob(JB):                      0.00270\n",
       "Kurtosis:                       4.311   Cond. No.                     1.23e+16\n",
       "==============================================================================\n",
       "\n",
       "Warnings:\n",
       "[1] Standard Errors assume that the covariance matrix of the errors is correctly specified.\n",
       "[2] The smallest eigenvalue is 1.82e-22. This might indicate that there are\n",
       "strong multicollinearity problems or that the design matrix is singular.\n",
       "\"\"\""
      ]
     },
     "execution_count": 11,
     "metadata": {},
     "output_type": "execute_result"
    }
   ],
   "source": [
    "X_sm = X = sm.add_constant(X)\n",
    "model = sm.OLS(y, X_sm)\n",
    "model.fit().summary()"
   ]
  },
  {
   "cell_type": "markdown",
   "metadata": {},
   "source": [
    "<p id='mul'></p>\n",
    "<br><br>\n",
    "\n",
    "### Multiple linear regression"
   ]
  },
  {
   "cell_type": "code",
   "execution_count": 12,
   "metadata": {},
   "outputs": [
    {
     "data": {
      "text/plain": [
       "-2.2306026577866316"
      ]
     },
     "execution_count": 12,
     "metadata": {},
     "output_type": "execute_result"
    }
   ],
   "source": [
    "from sklearn.metrics import mean_absolute_error\n",
    "linear_model.fit(X_train, y_train)\n",
    "np.mean(cross_val_score(linear_model, X_train, y_train, scoring = \"neg_mean_absolute_error\", cv = 3))"
   ]
  },
  {
   "cell_type": "markdown",
   "metadata": {},
   "source": [
    "<p id='SVM'></p>\n",
    "<br><br>\n",
    "\n",
    "### Support vector regressor"
   ]
  },
  {
   "cell_type": "code",
   "execution_count": 13,
   "metadata": {},
   "outputs": [
    {
     "data": {
      "text/plain": [
       "-5.562800403467823"
      ]
     },
     "execution_count": 13,
     "metadata": {},
     "output_type": "execute_result"
    }
   ],
   "source": [
    "regressor.fit(X_train, y_train)\n",
    "np.mean(cross_val_score(regressor, X_train, y_train, scoring = \"neg_mean_absolute_error\", cv =3))"
   ]
  },
  {
   "cell_type": "markdown",
   "metadata": {},
   "source": [
    "<p id='lr'></p>\n",
    "<br><br>\n",
    "\n",
    "### Lasso regression"
   ]
  },
  {
   "cell_type": "code",
   "execution_count": 15,
   "metadata": {},
   "outputs": [
    {
     "name": "stderr",
     "output_type": "stream",
     "text": [
      "C:\\Users\\lenovo\\anaconda3\\lib\\site-packages\\sklearn\\linear_model\\_coordinate_descent.py:531: ConvergenceWarning: Objective did not converge. You might want to increase the number of iterations. Duality gap: 174.70212599429865, tolerance: 0.6765070465169113\n",
      "  positive)\n"
     ]
    },
    {
     "data": {
      "text/plain": [
       "-2.202747391146455"
      ]
     },
     "execution_count": 15,
     "metadata": {},
     "output_type": "execute_result"
    }
   ],
   "source": [
    "from sklearn.linear_model import Lasso\n",
    "lasso_reg = Lasso(alpha=0.001)\n",
    "lasso_reg.fit(X_train, y_train)\n",
    "np.mean(cross_val_score(lasso_reg, X_train, y_train, scoring = \"neg_mean_absolute_error\", cv = 3))"
   ]
  },
  {
   "cell_type": "markdown",
   "metadata": {},
   "source": [
    "<p id='lr'></p>\n",
    "<br><br>\n",
    "\n",
    "### Random Forest Regressor"
   ]
  },
  {
   "cell_type": "code",
   "execution_count": 16,
   "metadata": {},
   "outputs": [
    {
     "data": {
      "text/plain": [
       "-1.9231926451969708"
      ]
     },
     "execution_count": 16,
     "metadata": {},
     "output_type": "execute_result"
    }
   ],
   "source": [
    "rf = RandomForestRegressor()\n",
    "rf.fit(X_train, y_train)\n",
    "np.mean(cross_val_score(rf, X_train, y_train, scoring = \"neg_mean_absolute_error\", cv = 3))"
   ]
  },
  {
   "cell_type": "markdown",
   "metadata": {},
   "source": [
    "<p id='gs'></p>\n",
    "<br><br>\n",
    "\n",
    "### GridSearchCV"
   ]
  },
  {
   "cell_type": "code",
   "execution_count": 17,
   "metadata": {},
   "outputs": [
    {
     "data": {
      "text/plain": [
       "GridSearchCV(cv=3, estimator=RandomForestRegressor(),\n",
       "             param_grid={'criterion': ('mae', 'mse'),\n",
       "                         'max_features': ('auto', 'sqrt', 'log2'),\n",
       "                         'n_estimators': range(10, 300, 100)},\n",
       "             scoring='neg_mean_absolute_error')"
      ]
     },
     "execution_count": 17,
     "metadata": {},
     "output_type": "execute_result"
    }
   ],
   "source": [
    "from sklearn.model_selection import GridSearchCV\n",
    "params = {'n_estimators': range (10, 300, 100), 'criterion': ('mae', 'mse'), 'max_features': ('auto','sqrt','log2')}\n",
    "rfgs = GridSearchCV(rf, params, scoring = \"neg_mean_absolute_error\", cv =3)\n",
    "rfgs.fit(X_train, y_train)"
   ]
  },
  {
   "cell_type": "code",
   "execution_count": 18,
   "metadata": {},
   "outputs": [
    {
     "data": {
      "text/plain": [
       "-1.8326445707486207"
      ]
     },
     "execution_count": 18,
     "metadata": {},
     "output_type": "execute_result"
    }
   ],
   "source": [
    "rfgs.best_score_"
   ]
  },
  {
   "cell_type": "code",
   "execution_count": 19,
   "metadata": {},
   "outputs": [
    {
     "data": {
      "text/plain": [
       "RandomForestRegressor(criterion='mae', n_estimators=110)"
      ]
     },
     "execution_count": 19,
     "metadata": {},
     "output_type": "execute_result"
    }
   ],
   "source": [
    "rfgs.best_estimator_"
   ]
  },
  {
   "cell_type": "code",
   "execution_count": 27,
   "metadata": {},
   "outputs": [
    {
     "name": "stderr",
     "output_type": "stream",
     "text": [
      "C:\\Users\\lenovo\\anaconda3\\lib\\site-packages\\sklearn\\linear_model\\_coordinate_descent.py:531: ConvergenceWarning: Objective did not converge. You might want to increase the number of iterations. Duality gap: 174.70212599429865, tolerance: 0.6765070465169113\n",
      "  positive)\n",
      "C:\\Users\\lenovo\\anaconda3\\lib\\site-packages\\sklearn\\linear_model\\_coordinate_descent.py:531: ConvergenceWarning: Objective did not converge. You might want to increase the number of iterations. Duality gap: 165.49943274534783, tolerance: 0.6765070465169113\n",
      "  positive)\n"
     ]
    },
    {
     "data": {
      "text/plain": [
       "GridSearchCV(cv=3, estimator=Lasso(alpha=0.001),\n",
       "             param_grid={'alpha': [0.001, 0.01, 0.1, 1, 10, 100, 1000]},\n",
       "             scoring='neg_mean_absolute_error')"
      ]
     },
     "execution_count": 27,
     "metadata": {},
     "output_type": "execute_result"
    }
   ],
   "source": [
    "alpha = [0.001, 0.01, 0.1,1, 10, 100, 1000]\n",
    "params = dict(alpha = alpha)\n",
    "lasso_gs = GridSearchCV(lasso_reg, params, scoring = \"neg_mean_absolute_error\", cv =3)\n",
    "lasso_gs.fit(X_train, y_train)"
   ]
  },
  {
   "cell_type": "code",
   "execution_count": 28,
   "metadata": {},
   "outputs": [
    {
     "data": {
      "text/plain": [
       "-2.0430452780394717"
      ]
     },
     "execution_count": 28,
     "metadata": {},
     "output_type": "execute_result"
    }
   ],
   "source": [
    "lasso_gs.best_score_"
   ]
  },
  {
   "cell_type": "code",
   "execution_count": 29,
   "metadata": {},
   "outputs": [
    {
     "data": {
      "text/plain": [
       "Lasso(alpha=0.1)"
      ]
     },
     "execution_count": 29,
     "metadata": {},
     "output_type": "execute_result"
    }
   ],
   "source": [
    "lasso_gs.best_estimator_"
   ]
  },
  {
   "cell_type": "code",
   "execution_count": 33,
   "metadata": {},
   "outputs": [],
   "source": [
    "tpred_lm = linear_model.predict(X_test)\n",
    "tpred_reg = regressor.predict(X_test)\n",
    "tpred_gs = rfgs.best_estimator_.predict(X_test)\n",
    "tpred_lasso_gs = lasso_gs.best_estimator_.predict(X_test)"
   ]
  },
  {
   "cell_type": "code",
   "execution_count": 34,
   "metadata": {},
   "outputs": [
    {
     "name": "stdout",
     "output_type": "stream",
     "text": [
      "1.8063402594219962\n",
      "4.682397329150836\n",
      "2.019403617967469\n",
      "2.019403617967469\n"
     ]
    }
   ],
   "source": [
    "print(\"Linear Regression R2:\", mean_absolute_error(y_test, tpred_lm))\n",
    "print(\"Support vector regressor R2:\", mean_absolute_error(y_test, tpred_reg))\n",
    "print(\"Random forest regressor R2:\", mean_absolute_error(y_test, tpred_gs))\n",
    "print(mean_absolute_error(y_test, tpred_lasso_gs))"
   ]
  },
  {
   "cell_type": "code",
   "execution_count": null,
   "metadata": {},
   "outputs": [],
   "source": [
    "mean_absolute_error(y_test,(tpred_lm+tpred_gs)/2)"
   ]
  },
  {
   "cell_type": "code",
   "execution_count": 35,
   "metadata": {},
   "outputs": [
    {
     "name": "stdout",
     "output_type": "stream",
     "text": [
      "0.9369401391480359\n",
      "0.40717764788897004\n",
      "0.9316760372771723\n",
      "0.9316760372771723\n"
     ]
    }
   ],
   "source": [
    "print(\"Linear Regression R2:\", r2_score(y_test, tpred_lm))\n",
    "print(\"Support vector regressor R2:\", r2_score(y_test, tpred_reg))\n",
    "print(\"Random forest regressor R2:\" r2_score(y_test, tpred_gs))\n",
    "print(\"lasso regressor R2:\", r2_score(y_test, tpred_lasso_gs))"
   ]
  }
 ],
 "metadata": {
  "kernelspec": {
   "display_name": "Python 3",
   "language": "python",
   "name": "python3"
  },
  "language_info": {
   "codemirror_mode": {
    "name": "ipython",
    "version": 3
   },
   "file_extension": ".py",
   "mimetype": "text/x-python",
   "name": "python",
   "nbconvert_exporter": "python",
   "pygments_lexer": "ipython3",
   "version": "3.7.6"
  }
 },
 "nbformat": 4,
 "nbformat_minor": 4
}
