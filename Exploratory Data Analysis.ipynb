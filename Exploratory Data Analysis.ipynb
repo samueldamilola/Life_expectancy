{
 "cells": [
  {
   "cell_type": "markdown",
   "metadata": {},
   "source": [
    "## Exploratory Data Analysis\n",
    "\n",
    "Hello, I am Samuel. This notebook focuses on EDA of life expectancy of 165 countries and we will look into the dataset to get to draw insight. \n",
    "I am open to contributions from fellow analyst <hr style=\"width:100%; height:2px; background: #000\">"
   ]
  },
  {
   "cell_type": "markdown",
   "metadata": {},
   "source": [
    "<span id='top'></span>\n",
    "\n",
    "## The following will be considered \n",
    "**<a href=\"#preliminary\" style=\"text-decoration:none;\">1. Preliminary</a>**<br>\n",
    "**<a href=\"#uni_ana\" style=\"text-decoration:none;\">2. Univariant Analysis</a>**<br>\n",
    "&nbsp;&nbsp;&nbsp;&nbsp;&nbsp;&nbsp;&nbsp;&nbsp;&nbsp;&nbsp;**<a href=\"#cat1\" style=\"text-decoration:none;\">- Categorical features </a>**<br>\n",
    "&nbsp;&nbsp;&nbsp;&nbsp;&nbsp;&nbsp;&nbsp;&nbsp;&nbsp;&nbsp;**<a href=\"#num1\" style=\"text-decoration:none;\">- Numerical Features </a>**<br>\n",
    "**<a href=\"#mul_ana\" style=\"text-decoration:none;\">3. Multivariant Analysis</a>**<br>\n",
    "&nbsp;&nbsp;&nbsp;&nbsp;&nbsp;&nbsp;&nbsp;&nbsp;&nbsp;&nbsp;**<a href=\"#cat2\" style=\"text-decoration:none;\">- Categorical Features </a>**<br>\n",
    "&nbsp;&nbsp;&nbsp;&nbsp;&nbsp;&nbsp;&nbsp;&nbsp;&nbsp;&nbsp;**<a href=\"#num2\" style=\"text-decoration:none;\">- Numerical Features </a>**<br>\n",
    "**<a href=\"#explore\" style=\"text-decoration:none;\">3. Exploring other things</a>**<br>\n",
    "\n",
    "<hr style=\"width:100%; height:1px; background: #000\">\n"
   ]
  },
  {
   "cell_type": "markdown",
   "metadata": {},
   "source": [
    "### Dataset Description\n",
    "\n",
    "\n",
    "The data provided in this <a href='https://bit.ly/HDSC-StageOneDataset'>Github link</a> is the life expectancy data from the kaggle which is provided by the World Health Organization (W.H.O). The data consists of the following columns:\n",
    "\n",
    "'Country' : Country <span style=\"border-left:2px solid black;height:2px;margin-left:300px;padding-left:30px;\">'Status': Status </span>\n",
    "    \n",
    " 'Year': Year\n",
    "\n",
    "\n",
    "'Lifeexpectancy': Life Expectancy of each country <span style=\"border-left:2px solid black;height:2px;margin-left:198px;padding-left:30px;\">'AdultMortality': Adult mortality rate of sexes (15-60years)</span>\n",
    "\n",
    "\n",
    "'infantdeath': Infant death rate of both sexes (1months - 1year) <span style=\"border-left:2px solid black;height:2px;margin-left:156px;padding-left:30px;\">'Alcohol': Alcohol per capital consumption</span>\n",
    "\n",
    "\n",
    "'percentageexpenditure': Expenditure on health <span style=\"border-left:2px solid black;height:2px;margin-left:84px;padding-left:30px;\">'HepatitisB': Hepatitis B immunization coverage among 1 year old </span>\n",
    "\n",
    "'Measles': number of reported cases per 1000 population <span style=\"border-left:2px solid black;height:2px;margin-left:84px;padding-left:30px;\">'BMI': Average body mass index of entire population </span>\n",
    "\n",
    "'under-fivedeaths': Number of under five death per 1000 population <span style=\"border-left:2px solid black;height:2px;margin-left:84px;padding-left:30px;\">'Polio': Polio immunization coverage among 1 year old </span>\n",
    "\n",
    "'Totalexpenditure': General government expenditure on health <span style=\"border-left:2px solid black;height:2px;margin-left:84px;padding-left:30px;\">'Diphteria': Diptheria immunization coverage among 1 year old </span>\n",
    "\n",
    "'HIV/AIDS': Death per 1000 live <span style=\"border-left:2px solid black;height:2px;margin-left:84px;padding-left:30px;\">'GDP': Gross domestic product per capital </span>\n",
    "\n",
    "'Population': Popuation of the country <span style=\"border-left:2px solid black;height:2px;margin-left:84px;padding-left:30px;\">'thinness1-19years': Prevalence of thinness between age 10-19 </span>\n",
    "\n",
    "'thinness5-9years': prevalence of thinness among children age 5-9  <span style=\"border-left:2px solid black;height:2px;margin-left:84px;padding-left:30px;\">'Incomecompositionofresources': Human development index of income </span>\n",
    "\n",
    "'Schooling': Number of years in school <span style=\"border-left:2px solid black;height:2px;margin-left:84px;padding-left:30px;\">'Region': Regions f countries </span>\n",
    "\n",
    "'IncomeGroup': Levels of income of each countries \n",
    "<hr style=\"width:100%; height:1px; background: #000\">"
   ]
  },
  {
   "cell_type": "markdown",
   "metadata": {},
   "source": [
    "<p id='preliminary'></p>\n",
    "<br><br>\n",
    "\n",
    "## 1. Preliminary"
   ]
  },
  {
   "cell_type": "markdown",
   "metadata": {},
   "source": [
    "### Import dependencies"
   ]
  },
  {
   "cell_type": "code",
   "execution_count": 2,
   "metadata": {},
   "outputs": [],
   "source": [
    "#import dependencies\n",
    "import numpy as np\n",
    "import pandas as pd\n",
    "import matplotlib.pyplot as plt\n",
    "import seaborn as sns\n",
    "import missingno as msno"
   ]
  },
  {
   "cell_type": "markdown",
   "metadata": {},
   "source": [
    "### Load the save dataset"
   ]
  },
  {
   "cell_type": "code",
   "execution_count": 3,
   "metadata": {},
   "outputs": [],
   "source": [
    "#import the save dataset\n",
    "df = pd.read_csv(r\"C:\\Users\\lenovo\\Desktop\\DSN\\December data science project\\Regression (Life Expectancy prediction)\\df.csv\")"
   ]
  },
  {
   "cell_type": "markdown",
   "metadata": {},
   "source": [
    "### Dataset Description"
   ]
  },
  {
   "cell_type": "code",
   "execution_count": 4,
   "metadata": {},
   "outputs": [
    {
     "name": "stdout",
     "output_type": "stream",
     "text": [
      "shape: (165, 25)\n"
     ]
    }
   ],
   "source": [
    "print(\"shape:\", df.shape)"
   ]
  },
  {
   "cell_type": "code",
   "execution_count": 5,
   "metadata": {},
   "outputs": [
    {
     "name": "stdout",
     "output_type": "stream",
     "text": [
      "Column names: Index(['Country', 'Year', 'Status', 'Lifeexpectancy', 'AdultMortality',\n",
      "       'infantdeaths', 'Alcohol', 'percentageexpenditure', 'HepatitisB',\n",
      "       'Measles', 'BMI', 'under-fivedeaths', 'Polio', 'Totalexpenditure',\n",
      "       'Diphtheria', 'HIV/AIDS', 'GDP', 'Population', 'thinness1-19years',\n",
      "       'thinness5-9years', 'Incomecompositionofresources', 'Schooling',\n",
      "       'TableName', 'Region', 'IncomeGroup'],\n",
      "      dtype='object')\n"
     ]
    }
   ],
   "source": [
    "print(\"Column names:\", df.columns)"
   ]
  },
  {
   "cell_type": "code",
   "execution_count": 6,
   "metadata": {},
   "outputs": [
    {
     "data": {
      "text/html": [
       "<div>\n",
       "<style scoped>\n",
       "    .dataframe tbody tr th:only-of-type {\n",
       "        vertical-align: middle;\n",
       "    }\n",
       "\n",
       "    .dataframe tbody tr th {\n",
       "        vertical-align: top;\n",
       "    }\n",
       "\n",
       "    .dataframe thead th {\n",
       "        text-align: right;\n",
       "    }\n",
       "</style>\n",
       "<table border=\"1\" class=\"dataframe\">\n",
       "  <thead>\n",
       "    <tr style=\"text-align: right;\">\n",
       "      <th></th>\n",
       "      <th>Country</th>\n",
       "      <th>Year</th>\n",
       "      <th>Status</th>\n",
       "      <th>Lifeexpectancy</th>\n",
       "      <th>AdultMortality</th>\n",
       "      <th>infantdeaths</th>\n",
       "      <th>Alcohol</th>\n",
       "      <th>percentageexpenditure</th>\n",
       "      <th>HepatitisB</th>\n",
       "      <th>Measles</th>\n",
       "      <th>...</th>\n",
       "      <th>HIV/AIDS</th>\n",
       "      <th>GDP</th>\n",
       "      <th>Population</th>\n",
       "      <th>thinness1-19years</th>\n",
       "      <th>thinness5-9years</th>\n",
       "      <th>Incomecompositionofresources</th>\n",
       "      <th>Schooling</th>\n",
       "      <th>TableName</th>\n",
       "      <th>Region</th>\n",
       "      <th>IncomeGroup</th>\n",
       "    </tr>\n",
       "  </thead>\n",
       "  <tbody>\n",
       "    <tr>\n",
       "      <th>0</th>\n",
       "      <td>Afghanistan</td>\n",
       "      <td>2016.0</td>\n",
       "      <td>Developing</td>\n",
       "      <td>58.19375</td>\n",
       "      <td>269.0625</td>\n",
       "      <td>78.2500</td>\n",
       "      <td>0.014375</td>\n",
       "      <td>34.960110</td>\n",
       "      <td>64.5625</td>\n",
       "      <td>2362.2500</td>\n",
       "      <td>...</td>\n",
       "      <td>0.10000</td>\n",
       "      <td>340.015425</td>\n",
       "      <td>9972259.813</td>\n",
       "      <td>16.58125</td>\n",
       "      <td>15.58125</td>\n",
       "      <td>0.415375</td>\n",
       "      <td>8.21250</td>\n",
       "      <td>Afghanistan</td>\n",
       "      <td>South Asia</td>\n",
       "      <td>Low income</td>\n",
       "    </tr>\n",
       "    <tr>\n",
       "      <th>1</th>\n",
       "      <td>Albania</td>\n",
       "      <td>2016.0</td>\n",
       "      <td>Developing</td>\n",
       "      <td>75.15625</td>\n",
       "      <td>45.0625</td>\n",
       "      <td>0.6875</td>\n",
       "      <td>4.848750</td>\n",
       "      <td>193.259091</td>\n",
       "      <td>98</td>\n",
       "      <td>53.3750</td>\n",
       "      <td>...</td>\n",
       "      <td>0.10000</td>\n",
       "      <td>2119.726679</td>\n",
       "      <td>696911.625</td>\n",
       "      <td>1.61875</td>\n",
       "      <td>1.70000</td>\n",
       "      <td>0.709875</td>\n",
       "      <td>12.13750</td>\n",
       "      <td>Albania</td>\n",
       "      <td>Europe &amp; Central Asia</td>\n",
       "      <td>Upper middle income</td>\n",
       "    </tr>\n",
       "    <tr>\n",
       "      <th>2</th>\n",
       "      <td>Algeria</td>\n",
       "      <td>2016.0</td>\n",
       "      <td>Developing</td>\n",
       "      <td>73.61875</td>\n",
       "      <td>108.1875</td>\n",
       "      <td>20.3125</td>\n",
       "      <td>0.406667</td>\n",
       "      <td>236.185241</td>\n",
       "      <td>78</td>\n",
       "      <td>1943.8750</td>\n",
       "      <td>...</td>\n",
       "      <td>0.10000</td>\n",
       "      <td>2847.853392</td>\n",
       "      <td>21649827.44</td>\n",
       "      <td>6.09375</td>\n",
       "      <td>5.97500</td>\n",
       "      <td>0.694875</td>\n",
       "      <td>12.71250</td>\n",
       "      <td>Algeria</td>\n",
       "      <td>Middle East &amp; North Africa</td>\n",
       "      <td>Lower middle income</td>\n",
       "    </tr>\n",
       "    <tr>\n",
       "      <th>3</th>\n",
       "      <td>Angola</td>\n",
       "      <td>2016.0</td>\n",
       "      <td>Developing</td>\n",
       "      <td>49.01875</td>\n",
       "      <td>328.5625</td>\n",
       "      <td>83.7500</td>\n",
       "      <td>5.740667</td>\n",
       "      <td>102.100268</td>\n",
       "      <td>70.22222222</td>\n",
       "      <td>3561.3125</td>\n",
       "      <td>...</td>\n",
       "      <td>2.36875</td>\n",
       "      <td>1975.143045</td>\n",
       "      <td>10147099.19</td>\n",
       "      <td>6.19375</td>\n",
       "      <td>6.66875</td>\n",
       "      <td>0.458375</td>\n",
       "      <td>8.04375</td>\n",
       "      <td>Angola</td>\n",
       "      <td>Sub-Saharan Africa</td>\n",
       "      <td>Lower middle income</td>\n",
       "    </tr>\n",
       "    <tr>\n",
       "      <th>4</th>\n",
       "      <td>AntiguaandBarbuda</td>\n",
       "      <td>2016.0</td>\n",
       "      <td>Developing</td>\n",
       "      <td>75.05625</td>\n",
       "      <td>127.5000</td>\n",
       "      <td>0.0000</td>\n",
       "      <td>7.949333</td>\n",
       "      <td>1001.585226</td>\n",
       "      <td>98.26666667</td>\n",
       "      <td>0.0000</td>\n",
       "      <td>...</td>\n",
       "      <td>0.12500</td>\n",
       "      <td>9759.305728</td>\n",
       "      <td>NaN</td>\n",
       "      <td>3.42500</td>\n",
       "      <td>3.37500</td>\n",
       "      <td>0.488625</td>\n",
       "      <td>8.84375</td>\n",
       "      <td>AntiguaandBarbuda</td>\n",
       "      <td>Latin America &amp; Caribbean</td>\n",
       "      <td>High income</td>\n",
       "    </tr>\n",
       "  </tbody>\n",
       "</table>\n",
       "<p>5 rows × 25 columns</p>\n",
       "</div>"
      ],
      "text/plain": [
       "             Country    Year      Status  Lifeexpectancy  AdultMortality  \\\n",
       "0        Afghanistan  2016.0  Developing        58.19375        269.0625   \n",
       "1            Albania  2016.0  Developing        75.15625         45.0625   \n",
       "2            Algeria  2016.0  Developing        73.61875        108.1875   \n",
       "3             Angola  2016.0  Developing        49.01875        328.5625   \n",
       "4  AntiguaandBarbuda  2016.0  Developing        75.05625        127.5000   \n",
       "\n",
       "   infantdeaths   Alcohol  percentageexpenditure   HepatitisB    Measles  ...  \\\n",
       "0       78.2500  0.014375              34.960110      64.5625  2362.2500  ...   \n",
       "1        0.6875  4.848750             193.259091           98    53.3750  ...   \n",
       "2       20.3125  0.406667             236.185241           78  1943.8750  ...   \n",
       "3       83.7500  5.740667             102.100268  70.22222222  3561.3125  ...   \n",
       "4        0.0000  7.949333            1001.585226  98.26666667     0.0000  ...   \n",
       "\n",
       "   HIV/AIDS          GDP   Population  thinness1-19years  thinness5-9years  \\\n",
       "0   0.10000   340.015425  9972259.813           16.58125          15.58125   \n",
       "1   0.10000  2119.726679   696911.625            1.61875           1.70000   \n",
       "2   0.10000  2847.853392  21649827.44            6.09375           5.97500   \n",
       "3   2.36875  1975.143045  10147099.19            6.19375           6.66875   \n",
       "4   0.12500  9759.305728          NaN            3.42500           3.37500   \n",
       "\n",
       "   Incomecompositionofresources  Schooling          TableName  \\\n",
       "0                      0.415375    8.21250        Afghanistan   \n",
       "1                      0.709875   12.13750            Albania   \n",
       "2                      0.694875   12.71250            Algeria   \n",
       "3                      0.458375    8.04375             Angola   \n",
       "4                      0.488625    8.84375  AntiguaandBarbuda   \n",
       "\n",
       "                       Region          IncomeGroup  \n",
       "0                  South Asia           Low income  \n",
       "1       Europe & Central Asia  Upper middle income  \n",
       "2  Middle East & North Africa  Lower middle income  \n",
       "3          Sub-Saharan Africa  Lower middle income  \n",
       "4   Latin America & Caribbean          High income  \n",
       "\n",
       "[5 rows x 25 columns]"
      ]
     },
     "execution_count": 6,
     "metadata": {},
     "output_type": "execute_result"
    }
   ],
   "source": [
    "df.head()"
   ]
  },
  {
   "cell_type": "code",
   "execution_count": 7,
   "metadata": {},
   "outputs": [],
   "source": [
    "df.drop([\"Year\", \"TableName\"], axis = 1, inplace = True)"
   ]
  },
  {
   "cell_type": "markdown",
   "metadata": {},
   "source": [
    "**Do we have missing values?**"
   ]
  },
  {
   "cell_type": "code",
   "execution_count": 8,
   "metadata": {},
   "outputs": [
    {
     "data": {
      "text/plain": [
       "Country                          0\n",
       "Status                           4\n",
       "Lifeexpectancy                   0\n",
       "AdultMortality                   0\n",
       "infantdeaths                     0\n",
       "Alcohol                          1\n",
       "percentageexpenditure            0\n",
       "HepatitisB                       5\n",
       "Measles                          0\n",
       "BMI                              2\n",
       "under-fivedeaths                 0\n",
       "Polio                            0\n",
       "Totalexpenditure                 1\n",
       "Diphtheria                       0\n",
       "HIV/AIDS                         0\n",
       "GDP                             11\n",
       "Population                      23\n",
       "thinness1-19years                2\n",
       "thinness5-9years                 2\n",
       "Incomecompositionofresources     4\n",
       "Schooling                        4\n",
       "Region                           0\n",
       "IncomeGroup                      0\n",
       "dtype: int64"
      ]
     },
     "execution_count": 8,
     "metadata": {},
     "output_type": "execute_result"
    }
   ],
   "source": [
    "df.isnull().sum()"
   ]
  },
  {
   "cell_type": "markdown",
   "metadata": {},
   "source": [
    "**We have missing rows in Status, Alcohol, HepatitisB, BMI, Totalexpenditure, GDP, Population, thinness1-19years, thinness5-9years, Income composition of resources and schooling in the dataset**"
   ]
  },
  {
   "cell_type": "code",
   "execution_count": 9,
   "metadata": {},
   "outputs": [
    {
     "data": {
      "text/plain": [
       "<matplotlib.axes._subplots.AxesSubplot at 0x152ea9e2948>"
      ]
     },
     "execution_count": 9,
     "metadata": {},
     "output_type": "execute_result"
    },
    {
     "data": {
      "image/png": "[encoded data removed]",
      "text/plain": [
       "<Figure size 1800x720 with 2 Axes>"
      ]
     },
     "metadata": {
      "needs_background": "light"
     },
     "output_type": "display_data"
    }
   ],
   "source": [
    "import missingno as msno\n",
    "msno.matrix(df)"
   ]
  },
  {
   "cell_type": "markdown",
   "metadata": {},
   "source": [
    "**The horizontal lines in dataset column shows the areas where the missing data are located \n",
    "and it also indicates that the number of missing values is small compared to the entire dataset.**<br>\n",
    "**We will fix the missing values later in the exploration**"
   ]
  },
  {
   "cell_type": "markdown",
   "metadata": {},
   "source": [
    "**From this we have 4 categorical features and 19 numerical features**"
   ]
  },
  {
   "cell_type": "code",
   "execution_count": 10,
   "metadata": {},
   "outputs": [
    {
     "name": "stdout",
     "output_type": "stream",
     "text": [
      "Cat features: ['Country', 'Status', 'HepatitisB', 'Population', 'Region', 'IncomeGroup']\n",
      "Num features: ['Lifeexpectancy', 'AdultMortality', 'infantdeaths', 'Alcohol', 'percentageexpenditure', 'Measles', 'BMI', 'under-fivedeaths', 'Polio', 'Totalexpenditure', 'Diphtheria', 'HIV/AIDS', 'GDP', 'thinness1-19years', 'thinness5-9years', 'Incomecompositionofresources', 'Schooling']\n"
     ]
    }
   ],
   "source": [
    "cat_features = df.select_dtypes(exclude = np.number).columns.to_list()\n",
    "Num_features = df.select_dtypes (include = np.number).columns.to_list()\n",
    "print(\"Cat features:\", cat_features)\n",
    "print(\"Num features:\", Num_features)"
   ]
  },
  {
   "cell_type": "markdown",
   "metadata": {},
   "source": [
    "**Fixing missing values with mode and mean**"
   ]
  },
  {
   "cell_type": "code",
   "execution_count": 11,
   "metadata": {},
   "outputs": [
    {
     "data": {
      "text/plain": [
       "Developing    132\n",
       "Developed      29\n",
       "Name: Status, dtype: int64"
      ]
     },
     "execution_count": 11,
     "metadata": {},
     "output_type": "execute_result"
    }
   ],
   "source": [
    "df[\"Status\"].value_counts()"
   ]
  },
  {
   "cell_type": "code",
   "execution_count": 12,
   "metadata": {},
   "outputs": [],
   "source": [
    "df[\"Status\"] = df[\"Status\"].fillna(\"Developing\")"
   ]
  },
  {
   "cell_type": "code",
   "execution_count": 13,
   "metadata": {},
   "outputs": [
    {
     "ename": "TypeError",
     "evalue": "can only concatenate str (not \"int\") to str",
     "output_type": "error",
     "traceback": [
      "\u001b[1;31m---------------------------------------------------------------------------\u001b[0m",
      "\u001b[1;31mTypeError\u001b[0m                                 Traceback (most recent call last)",
      "\u001b[1;32m<ipython-input-13-92cd7e66ab87>\u001b[0m in \u001b[0;36m<module>\u001b[1;34m\u001b[0m\n\u001b[0;32m      1\u001b[0m \u001b[0mdf\u001b[0m\u001b[1;33m[\u001b[0m\u001b[1;34m\"Alcohol\"\u001b[0m\u001b[1;33m]\u001b[0m \u001b[1;33m=\u001b[0m \u001b[0mdf\u001b[0m\u001b[1;33m[\u001b[0m\u001b[1;34m\"Alcohol\"\u001b[0m\u001b[1;33m]\u001b[0m\u001b[1;33m.\u001b[0m\u001b[0mfillna\u001b[0m\u001b[1;33m(\u001b[0m\u001b[0mdf\u001b[0m\u001b[1;33m[\u001b[0m\u001b[1;34m\"Alcohol\"\u001b[0m\u001b[1;33m]\u001b[0m\u001b[1;33m.\u001b[0m\u001b[0mmean\u001b[0m\u001b[1;33m(\u001b[0m\u001b[1;33m)\u001b[0m\u001b[1;33m)\u001b[0m\u001b[1;33m\u001b[0m\u001b[1;33m\u001b[0m\u001b[0m\n\u001b[1;32m----> 2\u001b[1;33m \u001b[0mdf\u001b[0m\u001b[1;33m[\u001b[0m\u001b[1;34m\"HepatitisB\"\u001b[0m\u001b[1;33m]\u001b[0m \u001b[1;33m=\u001b[0m \u001b[0mdf\u001b[0m\u001b[1;33m[\u001b[0m\u001b[1;34m\"HepatitisB\"\u001b[0m\u001b[1;33m]\u001b[0m\u001b[1;33m.\u001b[0m\u001b[0mfillna\u001b[0m\u001b[1;33m(\u001b[0m\u001b[0mdf\u001b[0m\u001b[1;33m[\u001b[0m\u001b[1;34m\"HepatitisB\"\u001b[0m\u001b[1;33m]\u001b[0m\u001b[1;33m.\u001b[0m\u001b[0mmean\u001b[0m\u001b[1;33m(\u001b[0m\u001b[1;33m)\u001b[0m\u001b[1;33m)\u001b[0m\u001b[1;33m\u001b[0m\u001b[1;33m\u001b[0m\u001b[0m\n\u001b[0m\u001b[0;32m      3\u001b[0m \u001b[0mdf\u001b[0m\u001b[1;33m[\u001b[0m\u001b[1;34m\"BMI\"\u001b[0m\u001b[1;33m]\u001b[0m \u001b[1;33m=\u001b[0m \u001b[0mdf\u001b[0m\u001b[1;33m[\u001b[0m\u001b[1;34m\"BMI\"\u001b[0m\u001b[1;33m]\u001b[0m\u001b[1;33m.\u001b[0m\u001b[0mfillna\u001b[0m\u001b[1;33m(\u001b[0m\u001b[0mdf\u001b[0m\u001b[1;33m[\u001b[0m\u001b[1;34m\"BMI\"\u001b[0m\u001b[1;33m]\u001b[0m\u001b[1;33m.\u001b[0m\u001b[0mmean\u001b[0m\u001b[1;33m(\u001b[0m\u001b[1;33m)\u001b[0m\u001b[1;33m)\u001b[0m\u001b[1;33m\u001b[0m\u001b[1;33m\u001b[0m\u001b[0m\n\u001b[0;32m      4\u001b[0m \u001b[0mdf\u001b[0m\u001b[1;33m[\u001b[0m\u001b[1;34m\"Totalexpenditure\"\u001b[0m\u001b[1;33m]\u001b[0m \u001b[1;33m=\u001b[0m \u001b[0mdf\u001b[0m\u001b[1;33m[\u001b[0m\u001b[1;34m\"Totalexpenditure\"\u001b[0m\u001b[1;33m]\u001b[0m\u001b[1;33m.\u001b[0m\u001b[0mfillna\u001b[0m\u001b[1;33m(\u001b[0m\u001b[0mdf\u001b[0m\u001b[1;33m[\u001b[0m\u001b[1;34m\"Totalexpenditure\"\u001b[0m\u001b[1;33m]\u001b[0m\u001b[1;33m.\u001b[0m\u001b[0mmean\u001b[0m\u001b[1;33m(\u001b[0m\u001b[1;33m)\u001b[0m\u001b[1;33m)\u001b[0m\u001b[1;33m\u001b[0m\u001b[1;33m\u001b[0m\u001b[0m\n\u001b[0;32m      5\u001b[0m \u001b[0mdf\u001b[0m\u001b[1;33m[\u001b[0m\u001b[1;34m\"thinness1-19years\"\u001b[0m\u001b[1;33m]\u001b[0m \u001b[1;33m=\u001b[0m \u001b[0mdf\u001b[0m\u001b[1;33m[\u001b[0m\u001b[1;34m\"thinness1-19years\"\u001b[0m\u001b[1;33m]\u001b[0m\u001b[1;33m.\u001b[0m\u001b[0mfillna\u001b[0m\u001b[1;33m(\u001b[0m\u001b[0mdf\u001b[0m\u001b[1;33m[\u001b[0m\u001b[1;34m\"thinness1-19years\"\u001b[0m\u001b[1;33m]\u001b[0m\u001b[1;33m.\u001b[0m\u001b[0mmean\u001b[0m\u001b[1;33m(\u001b[0m\u001b[1;33m)\u001b[0m\u001b[1;33m)\u001b[0m\u001b[1;33m\u001b[0m\u001b[1;33m\u001b[0m\u001b[0m\n",
      "\u001b[1;32m~\\anaconda3\\lib\\site-packages\\pandas\\core\\generic.py\u001b[0m in \u001b[0;36mstat_func\u001b[1;34m(self, axis, skipna, level, numeric_only, **kwargs)\u001b[0m\n\u001b[0;32m  11215\u001b[0m             \u001b[1;32mreturn\u001b[0m \u001b[0mself\u001b[0m\u001b[1;33m.\u001b[0m\u001b[0m_agg_by_level\u001b[0m\u001b[1;33m(\u001b[0m\u001b[0mname\u001b[0m\u001b[1;33m,\u001b[0m \u001b[0maxis\u001b[0m\u001b[1;33m=\u001b[0m\u001b[0maxis\u001b[0m\u001b[1;33m,\u001b[0m \u001b[0mlevel\u001b[0m\u001b[1;33m=\u001b[0m\u001b[0mlevel\u001b[0m\u001b[1;33m,\u001b[0m \u001b[0mskipna\u001b[0m\u001b[1;33m=\u001b[0m\u001b[0mskipna\u001b[0m\u001b[1;33m)\u001b[0m\u001b[1;33m\u001b[0m\u001b[1;33m\u001b[0m\u001b[0m\n\u001b[0;32m  11216\u001b[0m         return self._reduce(\n\u001b[1;32m> 11217\u001b[1;33m             \u001b[0mf\u001b[0m\u001b[1;33m,\u001b[0m \u001b[0mname\u001b[0m\u001b[1;33m,\u001b[0m \u001b[0maxis\u001b[0m\u001b[1;33m=\u001b[0m\u001b[0maxis\u001b[0m\u001b[1;33m,\u001b[0m \u001b[0mskipna\u001b[0m\u001b[1;33m=\u001b[0m\u001b[0mskipna\u001b[0m\u001b[1;33m,\u001b[0m \u001b[0mnumeric_only\u001b[0m\u001b[1;33m=\u001b[0m\u001b[0mnumeric_only\u001b[0m\u001b[1;33m\u001b[0m\u001b[1;33m\u001b[0m\u001b[0m\n\u001b[0m\u001b[0;32m  11218\u001b[0m         )\n\u001b[0;32m  11219\u001b[0m \u001b[1;33m\u001b[0m\u001b[0m\n",
      "\u001b[1;32m~\\anaconda3\\lib\\site-packages\\pandas\\core\\series.py\u001b[0m in \u001b[0;36m_reduce\u001b[1;34m(self, op, name, axis, skipna, numeric_only, filter_type, **kwds)\u001b[0m\n\u001b[0;32m   3889\u001b[0m                 )\n\u001b[0;32m   3890\u001b[0m             \u001b[1;32mwith\u001b[0m \u001b[0mnp\u001b[0m\u001b[1;33m.\u001b[0m\u001b[0merrstate\u001b[0m\u001b[1;33m(\u001b[0m\u001b[0mall\u001b[0m\u001b[1;33m=\u001b[0m\u001b[1;34m\"ignore\"\u001b[0m\u001b[1;33m)\u001b[0m\u001b[1;33m:\u001b[0m\u001b[1;33m\u001b[0m\u001b[1;33m\u001b[0m\u001b[0m\n\u001b[1;32m-> 3891\u001b[1;33m                 \u001b[1;32mreturn\u001b[0m \u001b[0mop\u001b[0m\u001b[1;33m(\u001b[0m\u001b[0mdelegate\u001b[0m\u001b[1;33m,\u001b[0m \u001b[0mskipna\u001b[0m\u001b[1;33m=\u001b[0m\u001b[0mskipna\u001b[0m\u001b[1;33m,\u001b[0m \u001b[1;33m**\u001b[0m\u001b[0mkwds\u001b[0m\u001b[1;33m)\u001b[0m\u001b[1;33m\u001b[0m\u001b[1;33m\u001b[0m\u001b[0m\n\u001b[0m\u001b[0;32m   3892\u001b[0m \u001b[1;33m\u001b[0m\u001b[0m\n\u001b[0;32m   3893\u001b[0m         \u001b[1;31m# TODO(EA) dispatch to Index\u001b[0m\u001b[1;33m\u001b[0m\u001b[1;33m\u001b[0m\u001b[1;33m\u001b[0m\u001b[0m\n",
      "\u001b[1;32m~\\anaconda3\\lib\\site-packages\\pandas\\core\\nanops.py\u001b[0m in \u001b[0;36m_f\u001b[1;34m(*args, **kwargs)\u001b[0m\n\u001b[0;32m     67\u001b[0m             \u001b[1;32mtry\u001b[0m\u001b[1;33m:\u001b[0m\u001b[1;33m\u001b[0m\u001b[1;33m\u001b[0m\u001b[0m\n\u001b[0;32m     68\u001b[0m                 \u001b[1;32mwith\u001b[0m \u001b[0mnp\u001b[0m\u001b[1;33m.\u001b[0m\u001b[0merrstate\u001b[0m\u001b[1;33m(\u001b[0m\u001b[0minvalid\u001b[0m\u001b[1;33m=\u001b[0m\u001b[1;34m\"ignore\"\u001b[0m\u001b[1;33m)\u001b[0m\u001b[1;33m:\u001b[0m\u001b[1;33m\u001b[0m\u001b[1;33m\u001b[0m\u001b[0m\n\u001b[1;32m---> 69\u001b[1;33m                     \u001b[1;32mreturn\u001b[0m \u001b[0mf\u001b[0m\u001b[1;33m(\u001b[0m\u001b[1;33m*\u001b[0m\u001b[0margs\u001b[0m\u001b[1;33m,\u001b[0m \u001b[1;33m**\u001b[0m\u001b[0mkwargs\u001b[0m\u001b[1;33m)\u001b[0m\u001b[1;33m\u001b[0m\u001b[1;33m\u001b[0m\u001b[0m\n\u001b[0m\u001b[0;32m     70\u001b[0m             \u001b[1;32mexcept\u001b[0m \u001b[0mValueError\u001b[0m \u001b[1;32mas\u001b[0m \u001b[0me\u001b[0m\u001b[1;33m:\u001b[0m\u001b[1;33m\u001b[0m\u001b[1;33m\u001b[0m\u001b[0m\n\u001b[0;32m     71\u001b[0m                 \u001b[1;31m# we want to transform an object array\u001b[0m\u001b[1;33m\u001b[0m\u001b[1;33m\u001b[0m\u001b[1;33m\u001b[0m\u001b[0m\n",
      "\u001b[1;32m~\\anaconda3\\lib\\site-packages\\pandas\\core\\nanops.py\u001b[0m in \u001b[0;36mf\u001b[1;34m(values, axis, skipna, **kwds)\u001b[0m\n\u001b[0;32m    123\u001b[0m                     \u001b[0mresult\u001b[0m \u001b[1;33m=\u001b[0m \u001b[0malt\u001b[0m\u001b[1;33m(\u001b[0m\u001b[0mvalues\u001b[0m\u001b[1;33m,\u001b[0m \u001b[0maxis\u001b[0m\u001b[1;33m=\u001b[0m\u001b[0maxis\u001b[0m\u001b[1;33m,\u001b[0m \u001b[0mskipna\u001b[0m\u001b[1;33m=\u001b[0m\u001b[0mskipna\u001b[0m\u001b[1;33m,\u001b[0m \u001b[1;33m**\u001b[0m\u001b[0mkwds\u001b[0m\u001b[1;33m)\u001b[0m\u001b[1;33m\u001b[0m\u001b[1;33m\u001b[0m\u001b[0m\n\u001b[0;32m    124\u001b[0m             \u001b[1;32melse\u001b[0m\u001b[1;33m:\u001b[0m\u001b[1;33m\u001b[0m\u001b[1;33m\u001b[0m\u001b[0m\n\u001b[1;32m--> 125\u001b[1;33m                 \u001b[0mresult\u001b[0m \u001b[1;33m=\u001b[0m \u001b[0malt\u001b[0m\u001b[1;33m(\u001b[0m\u001b[0mvalues\u001b[0m\u001b[1;33m,\u001b[0m \u001b[0maxis\u001b[0m\u001b[1;33m=\u001b[0m\u001b[0maxis\u001b[0m\u001b[1;33m,\u001b[0m \u001b[0mskipna\u001b[0m\u001b[1;33m=\u001b[0m\u001b[0mskipna\u001b[0m\u001b[1;33m,\u001b[0m \u001b[1;33m**\u001b[0m\u001b[0mkwds\u001b[0m\u001b[1;33m)\u001b[0m\u001b[1;33m\u001b[0m\u001b[1;33m\u001b[0m\u001b[0m\n\u001b[0m\u001b[0;32m    126\u001b[0m \u001b[1;33m\u001b[0m\u001b[0m\n\u001b[0;32m    127\u001b[0m             \u001b[1;32mreturn\u001b[0m \u001b[0mresult\u001b[0m\u001b[1;33m\u001b[0m\u001b[1;33m\u001b[0m\u001b[0m\n",
      "\u001b[1;32m~\\anaconda3\\lib\\site-packages\\pandas\\core\\nanops.py\u001b[0m in \u001b[0;36mnanmean\u001b[1;34m(values, axis, skipna, mask)\u001b[0m\n\u001b[0;32m    540\u001b[0m         \u001b[0mdtype_count\u001b[0m \u001b[1;33m=\u001b[0m \u001b[0mdtype\u001b[0m\u001b[1;33m\u001b[0m\u001b[1;33m\u001b[0m\u001b[0m\n\u001b[0;32m    541\u001b[0m     \u001b[0mcount\u001b[0m \u001b[1;33m=\u001b[0m \u001b[0m_get_counts\u001b[0m\u001b[1;33m(\u001b[0m\u001b[0mvalues\u001b[0m\u001b[1;33m.\u001b[0m\u001b[0mshape\u001b[0m\u001b[1;33m,\u001b[0m \u001b[0mmask\u001b[0m\u001b[1;33m,\u001b[0m \u001b[0maxis\u001b[0m\u001b[1;33m,\u001b[0m \u001b[0mdtype\u001b[0m\u001b[1;33m=\u001b[0m\u001b[0mdtype_count\u001b[0m\u001b[1;33m)\u001b[0m\u001b[1;33m\u001b[0m\u001b[1;33m\u001b[0m\u001b[0m\n\u001b[1;32m--> 542\u001b[1;33m     \u001b[0mthe_sum\u001b[0m \u001b[1;33m=\u001b[0m \u001b[0m_ensure_numeric\u001b[0m\u001b[1;33m(\u001b[0m\u001b[0mvalues\u001b[0m\u001b[1;33m.\u001b[0m\u001b[0msum\u001b[0m\u001b[1;33m(\u001b[0m\u001b[0maxis\u001b[0m\u001b[1;33m,\u001b[0m \u001b[0mdtype\u001b[0m\u001b[1;33m=\u001b[0m\u001b[0mdtype_sum\u001b[0m\u001b[1;33m)\u001b[0m\u001b[1;33m)\u001b[0m\u001b[1;33m\u001b[0m\u001b[1;33m\u001b[0m\u001b[0m\n\u001b[0m\u001b[0;32m    543\u001b[0m \u001b[1;33m\u001b[0m\u001b[0m\n\u001b[0;32m    544\u001b[0m     \u001b[1;32mif\u001b[0m \u001b[0maxis\u001b[0m \u001b[1;32mis\u001b[0m \u001b[1;32mnot\u001b[0m \u001b[1;32mNone\u001b[0m \u001b[1;32mand\u001b[0m \u001b[0mgetattr\u001b[0m\u001b[1;33m(\u001b[0m\u001b[0mthe_sum\u001b[0m\u001b[1;33m,\u001b[0m \u001b[1;34m\"ndim\"\u001b[0m\u001b[1;33m,\u001b[0m \u001b[1;32mFalse\u001b[0m\u001b[1;33m)\u001b[0m\u001b[1;33m:\u001b[0m\u001b[1;33m\u001b[0m\u001b[1;33m\u001b[0m\u001b[0m\n",
      "\u001b[1;32m~\\anaconda3\\lib\\site-packages\\numpy\\core\\_methods.py\u001b[0m in \u001b[0;36m_sum\u001b[1;34m(a, axis, dtype, out, keepdims, initial, where)\u001b[0m\n\u001b[0;32m     36\u001b[0m def _sum(a, axis=None, dtype=None, out=None, keepdims=False,\n\u001b[0;32m     37\u001b[0m          initial=_NoValue, where=True):\n\u001b[1;32m---> 38\u001b[1;33m     \u001b[1;32mreturn\u001b[0m \u001b[0mumr_sum\u001b[0m\u001b[1;33m(\u001b[0m\u001b[0ma\u001b[0m\u001b[1;33m,\u001b[0m \u001b[0maxis\u001b[0m\u001b[1;33m,\u001b[0m \u001b[0mdtype\u001b[0m\u001b[1;33m,\u001b[0m \u001b[0mout\u001b[0m\u001b[1;33m,\u001b[0m \u001b[0mkeepdims\u001b[0m\u001b[1;33m,\u001b[0m \u001b[0minitial\u001b[0m\u001b[1;33m,\u001b[0m \u001b[0mwhere\u001b[0m\u001b[1;33m)\u001b[0m\u001b[1;33m\u001b[0m\u001b[1;33m\u001b[0m\u001b[0m\n\u001b[0m\u001b[0;32m     39\u001b[0m \u001b[1;33m\u001b[0m\u001b[0m\n\u001b[0;32m     40\u001b[0m def _prod(a, axis=None, dtype=None, out=None, keepdims=False,\n",
      "\u001b[1;31mTypeError\u001b[0m: can only concatenate str (not \"int\") to str"
     ]
    }
   ],
   "source": [
    "df[\"Alcohol\"] = df[\"Alcohol\"].fillna(df[\"Alcohol\"].mean())\n",
    "df[\"HepatitisB\"] = df[\"HepatitisB\"].fillna(df[\"HepatitisB\"].mean())\n",
    "df[\"BMI\"] = df[\"BMI\"].fillna(df[\"BMI\"].mean())\n",
    "df[\"Totalexpenditure\"] = df[\"Totalexpenditure\"].fillna(df[\"Totalexpenditure\"].mean())\n",
    "df[\"thinness1-19years\"] = df[\"thinness1-19years\"].fillna(df[\"thinness1-19years\"].mean())\n",
    "df[\"thinness5-9years\"] = df[\"thinness5-9years\"].fillna(df[\"thinness5-9years\"].mean())\n",
    "df[\"Incomecompositionofresources\"] = df[\"Incomecompositionofresources\"].fillna(df[\"Incomecompositionofresources\"].mean())\n",
    "df[\"Schooling\"] = df[\"Schooling\"].fillna(df[\"Schooling\"].mean())\n",
    "df[\"GDP\"] = df[\"GDP\"].fillna(df[\"GDP\"].mean())\n",
    "df[\"Population\"] = df[\"Population\"].fillna(df[\"Population\"].mean())"
   ]
  },
  {
   "cell_type": "markdown",
   "metadata": {},
   "source": [
    "**No more missing values** "
   ]
  },
  {
   "cell_type": "code",
   "execution_count": null,
   "metadata": {},
   "outputs": [],
   "source": [
    "df.isna().sum()"
   ]
  },
  {
   "cell_type": "markdown",
   "metadata": {},
   "source": [
    "<p id='uni_ana'></p>\n",
    "<br><br>\n",
    "\n",
    "## Univariant Analysis"
   ]
  },
  {
   "cell_type": "markdown",
   "metadata": {},
   "source": [
    "**Analysis of some key feature of the dataset**"
   ]
  },
  {
   "cell_type": "markdown",
   "metadata": {},
   "source": [
    "<p id='cat1'></p><br>\n",
    "\n",
    "\n",
    "#### Categorical features"
   ]
  },
  {
   "cell_type": "code",
   "execution_count": null,
   "metadata": {},
   "outputs": [],
   "source": [
    "cat_features"
   ]
  },
  {
   "cell_type": "markdown",
   "metadata": {},
   "source": [
    "We are not interested in the country feature since it is just a unique identifier\n",
    "<br><br><br>**Plot of countries Status**"
   ]
  },
  {
   "cell_type": "code",
   "execution_count": null,
   "metadata": {},
   "outputs": [],
   "source": [
    "sns.set(style =\"darkgrid\", palette = \"deep\", font_scale = 1.1, rc = {\"figure.figsize\": (10,8)})"
   ]
  },
  {
   "cell_type": "code",
   "execution_count": null,
   "metadata": {},
   "outputs": [],
   "source": [
    "sns.countplot(x = \"Status\", data = df)"
   ]
  },
  {
   "cell_type": "code",
   "execution_count": null,
   "metadata": {
    "scrolled": false
   },
   "outputs": [],
   "source": [
    "sns.countplot(data = df, y= \"Region\", order= df.Region.value_counts().nlargest(15).index)"
   ]
  },
  {
   "cell_type": "markdown",
   "metadata": {},
   "source": [
    "#### Plot by Region"
   ]
  },
  {
   "cell_type": "code",
   "execution_count": null,
   "metadata": {},
   "outputs": [],
   "source": [
    "sns.countplot(data = df, y= \"IncomeGroup\", order = df.IncomeGroup.value_counts().nlargest(15).index)"
   ]
  },
  {
   "cell_type": "markdown",
   "metadata": {},
   "source": [
    "#### Plot by Income Group"
   ]
  },
  {
   "cell_type": "markdown",
   "metadata": {},
   "source": [
    "### Observations\n",
    "1. We have more of developing countries<br>\n",
    "2. Sub-saharan Africa and Europe & Central Asia are more represented in the dataset<br>\n",
    "3. Countries that generate upper middle or high income are well represented**"
   ]
  },
  {
   "cell_type": "markdown",
   "metadata": {},
   "source": [
    "<p id='num1'></p><br>\n",
    "\n",
    "### Numerical features"
   ]
  },
  {
   "cell_type": "code",
   "execution_count": null,
   "metadata": {},
   "outputs": [],
   "source": [
    "Num_features"
   ]
  },
  {
   "cell_type": "code",
   "execution_count": null,
   "metadata": {},
   "outputs": [],
   "source": [
    "df.describe()"
   ]
  },
  {
   "cell_type": "code",
   "execution_count": null,
   "metadata": {},
   "outputs": [],
   "source": [
    "sns.distplot(df[\"Lifeexpectancy\"],  norm_hist = False, kde = True, bins = 20, hist_kws = {\"alpha\": 1}).set(xlabel = \"Life expectancy\", )"
   ]
  },
  {
   "cell_type": "markdown",
   "metadata": {},
   "source": [
    "### Distribution of life expectancy<br>\n",
    "**The distribution is almost from a bell curve (normally distributed) <br>\n",
    "**Countries with more life expectancy fall between 72-82"
   ]
  },
  {
   "cell_type": "markdown",
   "metadata": {},
   "source": [
    "### Let us calculate the skewness of each of the numeric features"
   ]
  },
  {
   "cell_type": "markdown",
   "metadata": {},
   "source": [
    "Skewness is a statistical measure that quantifies the symmetry of the distribution. <br>\n",
    "Skewness is the standardized third central moment and Kurtosis is the standardized <br>\n",
    "fourth central moment.<br>\n",
    "*A distribution may be skewed in the positive direction or negative direction.<br>\n",
    "*A positively skewed distribution has a long tail on the right side and negatively <br>\n",
    "&nbsp;&nbsp;&nbsp;&nbsp;skewed distribution has a long tail on the left side.<br>\n",
    "*A right tailed distribution or a  positively skewed distribution has its mean greater<br>\n",
    "&nbsp;&nbsp;&nbsp;&nbsp;than the median as the outliers present in the skewed right tail of the distribution influence the mean.<br>\n",
    "*A left tailed distribution has its mean smaller than the median."
   ]
  },
  {
   "cell_type": "code",
   "execution_count": null,
   "metadata": {},
   "outputs": [],
   "source": [
    "df.skew()"
   ]
  },
  {
   "cell_type": "markdown",
   "metadata": {},
   "source": [
    "**How can you interpret the skewness number?**\n",
    "\n",
    "**If skewness is less than −1 or greater than +1, the distribution is highly skewed.** <br>\n",
    "**If skewness is between −1 and −½ or between +½ and +1, the distribution is moderately skewed.**<br>\n",
    "**If skewness is between −½ and +½, the distribution is approximately symmetric.**<br>\n",
    "<br>\n",
    "Most of the numeric features are greatly skewwed except report_year<br>\n",
    "\n",
    "\n",
    "**infant deaths, percentage expenditure, measles, under-fivedeaths HIV/AIDS, GDP, Population are highly skewed. This will be dealt with during the model building phase**"
   ]
  },
  {
   "cell_type": "markdown",
   "metadata": {},
   "source": [
    "#### <a href=\"#top\" style=\"text-decoration:none;\"><i>Back to Top</i></a>\n",
    "<hr style=\"width:100%; height:1px; background: #000\">"
   ]
  },
  {
   "cell_type": "markdown",
   "metadata": {},
   "source": [
    "<p id='mul_ana'></p>\n",
    "<br><br>\n",
    "\n",
    "## Multivariant Analysis"
   ]
  },
  {
   "cell_type": "markdown",
   "metadata": {},
   "source": [
    "<p id='cat2'></p><br>\n",
    "\n",
    "### Categorical features"
   ]
  },
  {
   "cell_type": "markdown",
   "metadata": {},
   "source": [
    "**In this aspect of our exploration, we will answer some questions using the dataset**<br>"
   ]
  },
  {
   "cell_type": "markdown",
   "metadata": {},
   "source": [
    "Let us find relation in our categorical features<br>\n",
    "We will consider the following features: ['Status', 'Region', 'Income group']"
   ]
  },
  {
   "cell_type": "code",
   "execution_count": null,
   "metadata": {},
   "outputs": [],
   "source": [
    "sns.relplot(data= df, x = \"Status\", y = \"Region\")"
   ]
  },
  {
   "cell_type": "markdown",
   "metadata": {},
   "source": [
    "#### Plot showing relationship between status and regions<br>\n",
    "** Latin America & Caribbean, Sub-saharan Africa and South Asia have no developed countries. they all contain developinig countries\n"
   ]
  },
  {
   "cell_type": "code",
   "execution_count": null,
   "metadata": {},
   "outputs": [],
   "source": [
    "sns.relplot(data = df, x = \"Status\", y = \"IncomeGroup\")"
   ]
  },
  {
   "cell_type": "markdown",
   "metadata": {},
   "source": [
    "#### Plot showing relationship between Status and Income Group<br>\n",
    "** None of the developed countries has low or lower middle income. they all contain upper middle and High income\n"
   ]
  },
  {
   "cell_type": "code",
   "execution_count": null,
   "metadata": {},
   "outputs": [],
   "source": [
    "sns.countplot(data = df, x = \"IncomeGroup\", hue= \"Region\")"
   ]
  },
  {
   "cell_type": "markdown",
   "metadata": {},
   "source": [
    "#### Plot showing relationship between Income Group and Regions"
   ]
  },
  {
   "cell_type": "markdown",
   "metadata": {},
   "source": [
    "<p id='num2'></p><br>\n",
    "\n",
    "### Numerical features"
   ]
  },
  {
   "cell_type": "code",
   "execution_count": null,
   "metadata": {},
   "outputs": [],
   "source": [
    "a = sns.FacetGrid(df, col = \"Region\")\n",
    "a.map(plt.hist, \"Lifeexpectancy\")"
   ]
  },
  {
   "cell_type": "markdown",
   "metadata": {},
   "source": [
    "#### Distribution of life expectancy across regions"
   ]
  },
  {
   "cell_type": "code",
   "execution_count": null,
   "metadata": {},
   "outputs": [],
   "source": [
    "a = sns.FacetGrid(df, col = \"IncomeGroup\")\n",
    "a.map(plt.hist, \"Lifeexpectancy\")"
   ]
  },
  {
   "cell_type": "markdown",
   "metadata": {},
   "source": [
    "#### Distribution of life expectancy across Income Groups"
   ]
  },
  {
   "cell_type": "code",
   "execution_count": null,
   "metadata": {},
   "outputs": [],
   "source": [
    "a = sns.FacetGrid(df, col = \"Status\")\n",
    "a.map(plt.hist, \"Lifeexpectancy\")"
   ]
  },
  {
   "cell_type": "markdown",
   "metadata": {},
   "source": [
    "#### Distribution of life expectancy across Income Groups"
   ]
  },
  {
   "cell_type": "code",
   "execution_count": null,
   "metadata": {},
   "outputs": [],
   "source": [
    "sns.pairplot(data = df,)"
   ]
  },
  {
   "cell_type": "code",
   "execution_count": null,
   "metadata": {},
   "outputs": [],
   "source": [
    "sns.heatmap(df.corr(), annot = False)"
   ]
  },
  {
   "cell_type": "code",
   "execution_count": null,
   "metadata": {},
   "outputs": [],
   "source": [
    "df.corr()"
   ]
  },
  {
   "cell_type": "markdown",
   "metadata": {},
   "source": [
    "**infant deaths, Measles, Population will be removed during model building phase because they have no relationship with the life expectancy**"
   ]
  },
  {
   "cell_type": "markdown",
   "metadata": {},
   "source": [
    " #### Export my new dataframe to csv for easy model building instead of working on it again."
   ]
  },
  {
   "cell_type": "code",
   "execution_count": null,
   "metadata": {},
   "outputs": [],
   "source": [
    "\n",
    "df.to_csv(r\"C:\\Users\\lenovo\\Desktop\\DSN\\December data science project\\Regression (Life Expectancy prediction)\\eda_df.csv\", index = False)"
   ]
  },
  {
   "cell_type": "markdown",
   "metadata": {},
   "source": [
    "**The notebook is getting quiet longer and we still have some unanswered questions.**\n",
    "<p>Some of those questions include: </p>\n",
    "<p>Feel free to fork this notebook and star it on <a href='https://github.com/owenrabbai/Hamoye-Internship'>here on github.</a></p>\n",
    "<p>Contributions will be greatly valued.</p>"
   ]
  }
 ],
 "metadata": {
  "kernelspec": {
   "display_name": "Python 3",
   "language": "python",
   "name": "python3"
  },
  "language_info": {
   "codemirror_mode": {
    "name": "ipython",
    "version": 3
   },
   "file_extension": ".py",
   "mimetype": "text/x-python",
   "name": "python",
   "nbconvert_exporter": "python",
   "pygments_lexer": "ipython3",
   "version": "3.7.6"
  }
 },
 "nbformat": 4,
 "nbformat_minor": 4
}
