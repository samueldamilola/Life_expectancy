{
 "cells": [
  {
   "cell_type": "code",
   "execution_count": 2,
   "metadata": {},
   "outputs": [],
   "source": [
    "data_in = [266.5625,\n",
    " 0.580666667,\n",
    " 75.37048165,\n",
    " 57.0,\n",
    " 40.7875,\n",
    " 13.75,\n",
    " 62.5625,\n",
    " 5.462666667000001,\n",
    " 68.375,\n",
    " 1.16875,\n",
    " 758.0976163,\n",
    " 1.40625,\n",
    " 1.3625,\n",
    " 0.4661875,\n",
    " 8.54375,\n",
    " 0.0,\n",
    " 1.0,\n",
    " 1.0,\n",
    " 0.0,\n",
    " 0.0,\n",
    " 0.0,\n",
    " 0.0,\n",
    " 0.0,\n",
    " 0.0,\n",
    " 0.0,\n",
    " 0.0,\n",
    " 1.0,\n",
    " 0.0]"
   ]
  }
 ],
 "metadata": {
  "kernelspec": {
   "display_name": "Python 3",
   "language": "python",
   "name": "python3"
  },
  "language_info": {
   "codemirror_mode": {
    "name": "ipython",
    "version": 3
   },
   "file_extension": ".py",
   "mimetype": "text/x-python",
   "name": "python",
   "nbconvert_exporter": "python",
   "pygments_lexer": "ipython3",
   "version": "3.7.6"
  }
 },
 "nbformat": 4,
 "nbformat_minor": 4
}
